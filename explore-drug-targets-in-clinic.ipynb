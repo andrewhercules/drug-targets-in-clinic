{
 "cells": [
  {
   "cell_type": "code",
   "execution_count": 1,
   "metadata": {},
   "outputs": [],
   "source": [
    "# import relevant libraries\n",
    "import pandas as pd\n",
    "import xml.etree.ElementTree as ET\n",
    "import time"
   ]
  },
  {
   "cell_type": "markdown",
   "metadata": {},
   "source": [
    "### Step 1: Parse DrugBank XML file"
   ]
  },
  {
   "cell_type": "code",
   "execution_count": 2,
   "metadata": {},
   "outputs": [],
   "source": [
    "# set location of XML file\n",
    "drugbank_xml_file_path = 'input/drugbank_full_database_5-1-8.xml'\n",
    "\n",
    "# set namespace value found in XML file\n",
    "name_space = '{http://www.drugbank.ca}'"
   ]
  },
  {
   "cell_type": "code",
   "execution_count": 3,
   "metadata": {},
   "outputs": [
    {
     "name": "stdout",
     "output_type": "stream",
     "text": [
      "Number of records in DrugBank XML file: 14315\n",
      "Time taken to load DrugBank XML file: 50 seconds\n"
     ]
    }
   ],
   "source": [
    "# set start time\n",
    "start = time.time()\n",
    "\n",
    "# parse XML file and set root\n",
    "tree = ET.parse(drugbank_xml_file_path)\n",
    "root = tree.getroot()\n",
    "\n",
    "# set end time\n",
    "end = time.time()\n",
    "\n",
    "print('Number of records in DrugBank XML file: %i' % len(root))\n",
    "print('Time taken to load DrugBank XML file: %i seconds' % (end - start))"
   ]
  },
  {
   "cell_type": "code",
   "execution_count": 4,
   "metadata": {},
   "outputs": [
    {
     "name": "stdout",
     "output_type": "stream",
     "text": [
      "Number of records found in all_drugs_list: 14315\n"
     ]
    }
   ],
   "source": [
    "# iterate through each record to extract relevant drug information\n",
    "\n",
    "all_drugs_list = list()\n",
    "\n",
    "def set_drug_type(drug):\n",
    "    drug_type = drug.get('type')\n",
    "    if drug_type == 'biotech':\n",
    "        categories = [category.text for category in drug.findall(\"{name_space}categories/{name_space}category/{name_space}category\".format(name_space = name_space))]\n",
    "        drug_type = 'antibody' if 'Antibodies' in categories else 'other'\n",
    "    return drug_type\n",
    "\n",
    "for i, drug in enumerate(root):\n",
    "    drug_entry = {}\n",
    "    assert drug.tag == name_space + 'drug'\n",
    "    drug_entry['drugbank_id'] = drug.findtext(name_space + \"drugbank-id[@primary='true']\")\n",
    "    drug_entry['name'] = drug.findtext(name_space + \"name\")\n",
    "    drug_entry['type'] = set_drug_type(drug)\n",
    "    drug_entry['groups'] = [group.text for group in drug.findall(\"{name_space}groups/{name_space}group\".format(name_space = name_space))]\n",
    "    all_drugs_list.append(drug_entry)\n",
    "    \n",
    "print('Number of records found in all_drugs_list: %i' % len(all_drugs_list))"
   ]
  },
  {
   "cell_type": "code",
   "execution_count": 5,
   "metadata": {},
   "outputs": [
    {
     "data": {
      "text/html": [
       "<div>\n",
       "<style scoped>\n",
       "    .dataframe tbody tr th:only-of-type {\n",
       "        vertical-align: middle;\n",
       "    }\n",
       "\n",
       "    .dataframe tbody tr th {\n",
       "        vertical-align: top;\n",
       "    }\n",
       "\n",
       "    .dataframe thead th {\n",
       "        text-align: right;\n",
       "    }\n",
       "</style>\n",
       "<table border=\"1\" class=\"dataframe\">\n",
       "  <thead>\n",
       "    <tr style=\"text-align: right;\">\n",
       "      <th></th>\n",
       "      <th>drugbank_id</th>\n",
       "      <th>groups</th>\n",
       "      <th>name</th>\n",
       "      <th>type</th>\n",
       "    </tr>\n",
       "  </thead>\n",
       "  <tbody>\n",
       "    <tr>\n",
       "      <th>0</th>\n",
       "      <td>DB00001</td>\n",
       "      <td>[approved]</td>\n",
       "      <td>Lepirudin</td>\n",
       "      <td>other</td>\n",
       "    </tr>\n",
       "    <tr>\n",
       "      <th>1</th>\n",
       "      <td>DB00002</td>\n",
       "      <td>[approved]</td>\n",
       "      <td>Cetuximab</td>\n",
       "      <td>antibody</td>\n",
       "    </tr>\n",
       "    <tr>\n",
       "      <th>2</th>\n",
       "      <td>DB00003</td>\n",
       "      <td>[approved]</td>\n",
       "      <td>Dornase alfa</td>\n",
       "      <td>other</td>\n",
       "    </tr>\n",
       "    <tr>\n",
       "      <th>3</th>\n",
       "      <td>DB00004</td>\n",
       "      <td>[approved, investigational]</td>\n",
       "      <td>Denileukin diftitox</td>\n",
       "      <td>other</td>\n",
       "    </tr>\n",
       "    <tr>\n",
       "      <th>4</th>\n",
       "      <td>DB00005</td>\n",
       "      <td>[approved, investigational]</td>\n",
       "      <td>Etanercept</td>\n",
       "      <td>antibody</td>\n",
       "    </tr>\n",
       "  </tbody>\n",
       "</table>\n",
       "</div>"
      ],
      "text/plain": [
       "  drugbank_id                       groups                 name      type\n",
       "0     DB00001                   [approved]            Lepirudin     other\n",
       "1     DB00002                   [approved]            Cetuximab  antibody\n",
       "2     DB00003                   [approved]         Dornase alfa     other\n",
       "3     DB00004  [approved, investigational]  Denileukin diftitox     other\n",
       "4     DB00005  [approved, investigational]           Etanercept  antibody"
      ]
     },
     "execution_count": 5,
     "metadata": {},
     "output_type": "execute_result"
    }
   ],
   "source": [
    "# create DataFrame with list of drugs and relevant drug information\n",
    "\n",
    "all_drugs_df = pd.DataFrame(all_drugs_list)\n",
    "all_drugs_df.head(5)"
   ]
  },
  {
   "cell_type": "code",
   "execution_count": 6,
   "metadata": {},
   "outputs": [],
   "source": [
    "# save DataFrame as CSV\n",
    "all_drugs_df.to_csv('output/drugbank_database_slim.csv', index=False)"
   ]
  },
  {
   "cell_type": "markdown",
   "metadata": {},
   "source": [
    "### Step 2: Parse DrugBank pharmacologically active targets CSV file "
   ]
  },
  {
   "cell_type": "code",
   "execution_count": 7,
   "metadata": {},
   "outputs": [],
   "source": [
    "# set location of DrugBank target file\n",
    "drugbank_target_file_path = 'input/drugbank_pharmacologically_active_targets_5-1-8.csv'"
   ]
  },
  {
   "cell_type": "code",
   "execution_count": 8,
   "metadata": {},
   "outputs": [
    {
     "name": "stdout",
     "output_type": "stream",
     "text": [
      "Number of records found in DrugBank pharmacologically active CSV file: 1317\n"
     ]
    }
   ],
   "source": [
    "# import file into DataFrame\n",
    "drugbank_targets_df = pd.read_csv(drugbank_target_file_path, sep=',')\n",
    "print('Number of records found in DrugBank pharmacologically active CSV file: %i' % len(drugbank_targets_df))"
   ]
  },
  {
   "cell_type": "code",
   "execution_count": 9,
   "metadata": {},
   "outputs": [
    {
     "data": {
      "text/html": [
       "<div>\n",
       "<style scoped>\n",
       "    .dataframe tbody tr th:only-of-type {\n",
       "        vertical-align: middle;\n",
       "    }\n",
       "\n",
       "    .dataframe tbody tr th {\n",
       "        vertical-align: top;\n",
       "    }\n",
       "\n",
       "    .dataframe thead th {\n",
       "        text-align: right;\n",
       "    }\n",
       "</style>\n",
       "<table border=\"1\" class=\"dataframe\">\n",
       "  <thead>\n",
       "    <tr style=\"text-align: right;\">\n",
       "      <th></th>\n",
       "      <th>ID</th>\n",
       "      <th>Name</th>\n",
       "      <th>Gene Name</th>\n",
       "      <th>GenBank Protein ID</th>\n",
       "      <th>GenBank Gene ID</th>\n",
       "      <th>UniProt ID</th>\n",
       "      <th>Uniprot Title</th>\n",
       "      <th>PDB ID</th>\n",
       "      <th>GeneCard ID</th>\n",
       "      <th>GenAtlas ID</th>\n",
       "      <th>HGNC ID</th>\n",
       "      <th>Species</th>\n",
       "      <th>Drug IDs</th>\n",
       "    </tr>\n",
       "  </thead>\n",
       "  <tbody>\n",
       "    <tr>\n",
       "      <th>0</th>\n",
       "      <td>1</td>\n",
       "      <td>Peptidoglycan synthase FtsI</td>\n",
       "      <td>ftsI</td>\n",
       "      <td>1574687.0</td>\n",
       "      <td>L42023</td>\n",
       "      <td>P45059</td>\n",
       "      <td>FTSI_HAEIN</td>\n",
       "      <td>NaN</td>\n",
       "      <td>NaN</td>\n",
       "      <td>NaN</td>\n",
       "      <td>NaN</td>\n",
       "      <td>Haemophilus influenzae (strain ATCC 51907 / DS...</td>\n",
       "      <td>DB00303</td>\n",
       "    </tr>\n",
       "    <tr>\n",
       "      <th>1</th>\n",
       "      <td>4</td>\n",
       "      <td>Coagulation factor XIII A chain</td>\n",
       "      <td>F13A1</td>\n",
       "      <td>182309.0</td>\n",
       "      <td>M22001</td>\n",
       "      <td>P00488</td>\n",
       "      <td>F13A_HUMAN</td>\n",
       "      <td>1EVU; 1EX0; 1F13; 1FIE; 1GGT; 1GGU; 1GGY; 1QRK...</td>\n",
       "      <td>NaN</td>\n",
       "      <td>F13A1</td>\n",
       "      <td>HGNC:3531</td>\n",
       "      <td>Humans</td>\n",
       "      <td>DB11300; DB11311; DB11571; DB13151</td>\n",
       "    </tr>\n",
       "    <tr>\n",
       "      <th>2</th>\n",
       "      <td>5</td>\n",
       "      <td>Nitric oxide synthase, inducible</td>\n",
       "      <td>NOS2</td>\n",
       "      <td>292242.0</td>\n",
       "      <td>L09210</td>\n",
       "      <td>P35228</td>\n",
       "      <td>NOS2_HUMAN</td>\n",
       "      <td>1NSI; 2LL6; 2NSI; 3E7G; 3EJ8; 3HR4; 4CX7; 4NOS</td>\n",
       "      <td>NaN</td>\n",
       "      <td>NOS2A</td>\n",
       "      <td>HGNC:7873</td>\n",
       "      <td>Humans</td>\n",
       "      <td>DB08814</td>\n",
       "    </tr>\n",
       "    <tr>\n",
       "      <th>3</th>\n",
       "      <td>8</td>\n",
       "      <td>NAD(P) transhydrogenase, mitochondrial</td>\n",
       "      <td>NNT</td>\n",
       "      <td>1110520.0</td>\n",
       "      <td>U40490</td>\n",
       "      <td>Q13423</td>\n",
       "      <td>NNTM_HUMAN</td>\n",
       "      <td>1DJL; 1PT9; 1U31</td>\n",
       "      <td>NaN</td>\n",
       "      <td>NNT</td>\n",
       "      <td>HGNC:7863</td>\n",
       "      <td>Humans</td>\n",
       "      <td>DB09092</td>\n",
       "    </tr>\n",
       "    <tr>\n",
       "      <th>4</th>\n",
       "      <td>11</td>\n",
       "      <td>Isocitrate dehydrogenase [NAD] subunit alpha, ...</td>\n",
       "      <td>IDH3A</td>\n",
       "      <td>706839.0</td>\n",
       "      <td>U07681</td>\n",
       "      <td>P50213</td>\n",
       "      <td>IDH3A_HUMAN</td>\n",
       "      <td>NaN</td>\n",
       "      <td>NaN</td>\n",
       "      <td>IDH3A</td>\n",
       "      <td>HGNC:5384</td>\n",
       "      <td>Humans</td>\n",
       "      <td>DB09092</td>\n",
       "    </tr>\n",
       "  </tbody>\n",
       "</table>\n",
       "</div>"
      ],
      "text/plain": [
       "   ID                                               Name Gene Name  \\\n",
       "0   1                        Peptidoglycan synthase FtsI      ftsI   \n",
       "1   4                    Coagulation factor XIII A chain     F13A1   \n",
       "2   5                   Nitric oxide synthase, inducible      NOS2   \n",
       "3   8             NAD(P) transhydrogenase, mitochondrial       NNT   \n",
       "4  11  Isocitrate dehydrogenase [NAD] subunit alpha, ...     IDH3A   \n",
       "\n",
       "   GenBank Protein ID GenBank Gene ID UniProt ID Uniprot Title  \\\n",
       "0           1574687.0          L42023     P45059    FTSI_HAEIN   \n",
       "1            182309.0          M22001     P00488    F13A_HUMAN   \n",
       "2            292242.0          L09210     P35228    NOS2_HUMAN   \n",
       "3           1110520.0          U40490     Q13423    NNTM_HUMAN   \n",
       "4            706839.0          U07681     P50213   IDH3A_HUMAN   \n",
       "\n",
       "                                              PDB ID  GeneCard ID GenAtlas ID  \\\n",
       "0                                                NaN          NaN         NaN   \n",
       "1  1EVU; 1EX0; 1F13; 1FIE; 1GGT; 1GGU; 1GGY; 1QRK...          NaN       F13A1   \n",
       "2     1NSI; 2LL6; 2NSI; 3E7G; 3EJ8; 3HR4; 4CX7; 4NOS          NaN       NOS2A   \n",
       "3                                   1DJL; 1PT9; 1U31          NaN         NNT   \n",
       "4                                                NaN          NaN       IDH3A   \n",
       "\n",
       "     HGNC ID                                            Species  \\\n",
       "0        NaN  Haemophilus influenzae (strain ATCC 51907 / DS...   \n",
       "1  HGNC:3531                                             Humans   \n",
       "2  HGNC:7873                                             Humans   \n",
       "3  HGNC:7863                                             Humans   \n",
       "4  HGNC:5384                                             Humans   \n",
       "\n",
       "                             Drug IDs  \n",
       "0                             DB00303  \n",
       "1  DB11300; DB11311; DB11571; DB13151  \n",
       "2                             DB08814  \n",
       "3                             DB09092  \n",
       "4                             DB09092  "
      ]
     },
     "execution_count": 9,
     "metadata": {},
     "output_type": "execute_result"
    }
   ],
   "source": [
    "# explore DataFrame with DrugBank target information\n",
    "drugbank_targets_df.head(5)"
   ]
  },
  {
   "cell_type": "code",
   "execution_count": 10,
   "metadata": {},
   "outputs": [
    {
     "data": {
      "text/plain": [
       "Humans                                                                                           1095\n",
       "Escherichia coli (strain K12)                                                                      40\n",
       "Escherichia coli                                                                                    9\n",
       "Streptococcus pneumoniae serotype 4 (strain ATCC BAA-334 / TIGR4)                                   8\n",
       "Mycobacterium tuberculosis                                                                          7\n",
       "Klebsiella pneumoniae                                                                               7\n",
       "Gram positive and gram negative bacteria                                                            7\n",
       "Clostridium botulinum                                                                               7\n",
       "Staphylococcus aureus                                                                               6\n",
       "Yeast                                                                                               6\n",
       "Rabies virus (strain Pasteur vaccins / PV)                                                          5\n",
       "Haemophilus influenzae (strain ATCC 51907 / DSM 11121 / KW20 / Rd)                                  5\n",
       "Human immunodeficiency virus 1                                                                      4\n",
       "Hepatitis C Virus                                                                                   4\n",
       "Pseudomonas aeruginosa                                                                              4\n",
       "Streptococcus pneumoniae (strain ATCC BAA-255 / R6)                                                 4\n",
       "Human Cytomegalovirus                                                                               3\n",
       "Plasmodium falciparum                                                                               3\n",
       "HHV-1                                                                                               2\n",
       "Bacillus subtilis (strain 168)                                                                      2\n",
       "SARS-CoV-2                                                                                          2\n",
       "Human cytomegalovirus (strain Towne)                                                                2\n",
       "Zaire ebolavirus (strain Mayinga-76)                                                                2\n",
       "Enterobacter cloacae                                                                                2\n",
       "Pseudomonas aeruginosa (strain ATCC 15692 / PAO1 / 1C / PRS 101 / LMG 12228)                        2\n",
       "Mycobacterium leprae (strain TN)                                                                    2\n",
       "Middle East respiratory syndrome-related coronavirus (isolate United Kingdom/H123990006/2012)       2\n",
       "Mycobacterium tuberculosis (strain ATCC 25618 / H37Rv)                                              2\n",
       "Mouse                                                                                               1\n",
       "Haemophilus influenzae                                                                              1\n",
       "                                                                                                 ... \n",
       "Enterobacteriaceae bacterium (strain FGI 57)                                                        1\n",
       "HBV                                                                                                 1\n",
       "Canis lupus familiaris                                                                              1\n",
       "Plasmodium falciparum (isolate 3D7)                                                                 1\n",
       "Pig roundworm                                                                                       1\n",
       "DENV-2                                                                                              1\n",
       "Enterococcus faecium                                                                                1\n",
       "Streptococcus pyogenes serotype M1                                                                  1\n",
       "Influenza A virus (strain A/Ann Arbor/6/1960 H2N2)                                                  1\n",
       "Anopheles gambiae                                                                                   1\n",
       "Bacteroides fragilis                                                                                1\n",
       "Listeria monocytogenes serotype 4b str. LL195                                                       1\n",
       "Pediculus humanus                                                                                   1\n",
       "Haloarcula marismortui (strain ATCC 43049 / DSM 3752 / JCM 8966 / VKM B-1809)                       1\n",
       "Staphylococcus aureus (strain MRSA252)                                                              1\n",
       "Peptoclostridium difficile                                                                          1\n",
       "Streptomyces sp. (strain R61)                                                                       1\n",
       "Streptococcus pneumoniae                                                                            1\n",
       "HHV-4                                                                                               1\n",
       "Plasmodium falciparum (isolate K1 / Thailand)                                                       1\n",
       "Clostridium perfringens (strain 13 / Type A)                                                        1\n",
       "Influenza B virus (strain B/Beijing/1/1987)                                                         1\n",
       "Salmonella typhi                                                                                    1\n",
       "Baker's yeast                                                                                       1\n",
       "Staphylococcus aureus (strain Mu50 / ATCC 700699)                                                   1\n",
       "Influenza A virus (strain A/Bangkok/1/1979 H3N2)                                                    1\n",
       "HHV-5                                                                                               1\n",
       "HBV-F                                                                                               1\n",
       "Thermus thermophilus (strain HB8 / ATCC 27634 / DSM 579)                                            1\n",
       "Mycobacterium avium                                                                                 1\n",
       "Name: Species, Length: 91, dtype: int64"
      ]
     },
     "execution_count": 10,
     "metadata": {},
     "output_type": "execute_result"
    }
   ],
   "source": [
    "# print list of species found in DataFrame\n",
    "drugbank_targets_df['Species'].value_counts()"
   ]
  },
  {
   "cell_type": "code",
   "execution_count": 11,
   "metadata": {},
   "outputs": [
    {
     "name": "stdout",
     "output_type": "stream",
     "text": [
      "Number of records where Species == \"Human\": 1095\n"
     ]
    }
   ],
   "source": [
    "# filter DataFrame for only human data\n",
    "drugbank_human_targets_df = drugbank_targets_df[drugbank_targets_df['Species'] == 'Humans'].copy()\n",
    "print('Number of records where Species == \"Human\": %i' % len(drugbank_human_targets_df))"
   ]
  },
  {
   "cell_type": "markdown",
   "metadata": {},
   "source": [
    "### Step 3: Create DrugBank clinical targets CSV export"
   ]
  },
  {
   "cell_type": "code",
   "execution_count": 12,
   "metadata": {},
   "outputs": [],
   "source": [
    "all_rows = list()\n",
    "\n",
    "clinic_drug_groups = [\n",
    "    'approved',\n",
    "    'investigational',\n",
    "    'withdrawn'\n",
    "]\n",
    "\n",
    "def filter_drug_list(list_of_drugs, modality):\n",
    "    my_list = list()\n",
    "    for drug in list_of_drugs:\n",
    "        drug_groups = drug['groups']\n",
    "        if any(group in drug_groups for group in clinic_drug_groups):\n",
    "            if drug['type'] == modality:\n",
    "                my_list.append(drug)\n",
    "    return my_list\n",
    "\n",
    "def handle_no_drug_data(drug_id):\n",
    "    drug_obj = {\n",
    "        'drugbank_id': drug_id,\n",
    "        'name': 'unknown',\n",
    "        'type': 'unknown',\n",
    "        'groups': 'unknown',\n",
    "    }\n",
    "    return drug_obj\n",
    "    \n",
    "for index, row in drugbank_human_targets_df.iterrows():\n",
    "    entry = {}\n",
    "    entry['db_symbol'] = row['Gene Name']\n",
    "    entry['accession'] = row['UniProt ID']\n",
    "    drug_ids = row['Drug IDs'].split('; ')\n",
    "    all_drugs = [(next((drug for drug in all_drugs_list if drug['drugbank_id'] == x), handle_no_drug_data(x))) for x in drug_ids]\n",
    "    entry['db_all_drugs_in_clinic'] = all_drugs\n",
    "    entry['db_small_molecule_drugs_in_clinic'] = filter_drug_list(all_drugs, 'small molecule') \n",
    "    entry['db_antibody_drugs_in_clinic'] = filter_drug_list(all_drugs, 'antibody')\n",
    "    entry['db_other_drugs_in_clinic'] = filter_drug_list(all_drugs, 'other')\n",
    "    entry['db_is_small_molecule_in_clinic'] = True if len(entry['db_small_molecule_drugs_in_clinic']) > 0 else False\n",
    "    entry['db_is_antibody_in_clinic'] = True if len(entry['db_antibody_drugs_in_clinic']) > 0 else False\n",
    "    entry['db_is_other_in_clinic'] = True if len(entry['db_other_drugs_in_clinic']) > 0 else False\n",
    "    all_rows.append(entry)"
   ]
  },
  {
   "cell_type": "code",
   "execution_count": 13,
   "metadata": {},
   "outputs": [],
   "source": [
    "drugbank_clinical_targets_df = pd.DataFrame(all_rows)"
   ]
  },
  {
   "cell_type": "code",
   "execution_count": 14,
   "metadata": {},
   "outputs": [],
   "source": [
    "reordered_columns = [\n",
    "    'accession',\n",
    "    'db_symbol',\n",
    "    'db_is_small_molecule_in_clinic',\n",
    "    'db_is_antibody_in_clinic',\n",
    "    'db_is_other_in_clinic',\n",
    "    'db_small_molecule_drugs_in_clinic',\n",
    "    'db_antibody_drugs_in_clinic',\n",
    "    'db_other_drugs_in_clinic',\n",
    "    'db_all_drugs_in_clinic',\n",
    "]"
   ]
  },
  {
   "cell_type": "code",
   "execution_count": 15,
   "metadata": {},
   "outputs": [],
   "source": [
    "drugbank_clinical_targets_df = drugbank_clinical_targets_df[reordered_columns]\n",
    "drugbank_clinical_targets_df.to_csv('output/drugbank_clinical_targets.csv', index=False)"
   ]
  },
  {
   "cell_type": "code",
   "execution_count": null,
   "metadata": {},
   "outputs": [],
   "source": []
  }
 ],
 "metadata": {
  "kernelspec": {
   "display_name": "Python 3",
   "language": "python",
   "name": "python3"
  },
  "language_info": {
   "codemirror_mode": {
    "name": "ipython",
    "version": 3
   },
   "file_extension": ".py",
   "mimetype": "text/x-python",
   "name": "python",
   "nbconvert_exporter": "python",
   "pygments_lexer": "ipython3",
   "version": "3.6.5"
  }
 },
 "nbformat": 4,
 "nbformat_minor": 2
}
